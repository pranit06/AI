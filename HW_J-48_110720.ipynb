{
  "nbformat": 4,
  "nbformat_minor": 0,
  "metadata": {
    "colab": {
      "name": "HW_J-48_110720.ipynb",
      "provenance": [],
      "collapsed_sections": [],
      "authorship_tag": "ABX9TyMAY7jz44Y2tGOj7Ig2KVRU",
      "include_colab_link": true
    },
    "kernelspec": {
      "name": "python3",
      "display_name": "Python 3"
    }
  },
  "cells": [
    {
      "cell_type": "markdown",
      "metadata": {
        "id": "view-in-github",
        "colab_type": "text"
      },
      "source": [
        "<a href=\"https://colab.research.google.com/github/pranit06/AI/blob/master/HW_J_48_110720.ipynb\" target=\"_parent\"><img src=\"https://colab.research.google.com/assets/colab-badge.svg\" alt=\"Open In Colab\"/></a>"
      ]
    },
    {
      "cell_type": "code",
      "metadata": {
        "id": "cmzlLIZty3Yn",
        "colab_type": "code",
        "colab": {}
      },
      "source": [
        "import pandas as pd\n",
        "import matplotlib.pyplot as plt\n",
        "\n",
        "class DataRead():\n",
        "  def __init__(self,filename):\n",
        "    self.Data = pd.read_csv(filename)\n",
        "\n",
        "  def RowSelect(self,x1,x2):\n",
        "    print(self.Data.iloc[x1])\n",
        "    print(self.Data.iloc[x2])\n",
        "\n",
        "\n",
        "class DataRead2(DataRead):\n",
        "  def plot_correlation(self):\n",
        "    plot_data = self.Data\n",
        "    correlation = plot_data.corr()\n",
        "    sns.heatmap(correlation)\n",
        "    plt.show()\n",
        "\n",
        "  def RowSelect(self,x1,x2,x3):\n",
        "    print(self.Data.iloc[x1])\n",
        "    print(self.Data.iloc[x2])\n",
        "    print(self.Data.iloc[x3])"
      ],
      "execution_count": 1,
      "outputs": []
    },
    {
      "cell_type": "code",
      "metadata": {
        "id": "VNFQEeyMy7j5",
        "colab_type": "code",
        "colab": {
          "base_uri": "https://localhost:8080/",
          "height": 550
        },
        "outputId": "e8d7ce0e-a159-4fd8-a1f3-91614b289302"
      },
      "source": [
        "a=\"iris.csv\"\n",
        "c=DataRead(a)\n",
        "c.RowSelect(1,2)\n",
        "\n",
        "d=DataRead2(a)\n",
        "d.RowSelect(1,2,5)"
      ],
      "execution_count": 2,
      "outputs": [
        {
          "output_type": "stream",
          "text": [
            "sepal_length       4.9\n",
            "sepal_width          3\n",
            "petal_length       1.4\n",
            "petal_width        0.2\n",
            "species         setosa\n",
            "Name: 1, dtype: object\n",
            "sepal_length       4.7\n",
            "sepal_width        3.2\n",
            "petal_length       1.3\n",
            "petal_width        0.2\n",
            "species         setosa\n",
            "Name: 2, dtype: object\n",
            "sepal_length       4.9\n",
            "sepal_width          3\n",
            "petal_length       1.4\n",
            "petal_width        0.2\n",
            "species         setosa\n",
            "Name: 1, dtype: object\n",
            "sepal_length       4.7\n",
            "sepal_width        3.2\n",
            "petal_length       1.3\n",
            "petal_width        0.2\n",
            "species         setosa\n",
            "Name: 2, dtype: object\n",
            "sepal_length       5.4\n",
            "sepal_width        3.9\n",
            "petal_length       1.7\n",
            "petal_width        0.4\n",
            "species         setosa\n",
            "Name: 5, dtype: object\n"
          ],
          "name": "stdout"
        }
      ]
    }
  ]
}
