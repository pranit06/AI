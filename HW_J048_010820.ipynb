{
  "nbformat": 4,
  "nbformat_minor": 0,
  "metadata": {
    "colab": {
      "name": "HW_J-48_010820.ipynb",
      "provenance": [],
      "authorship_tag": "ABX9TyPH8SShUAuuTFJJJry8PW+g",
      "include_colab_link": true
    },
    "kernelspec": {
      "name": "python3",
      "display_name": "Python 3"
    }
  },
  "cells": [
    {
      "cell_type": "markdown",
      "metadata": {
        "id": "view-in-github",
        "colab_type": "text"
      },
      "source": [
        "<a href=\"https://colab.research.google.com/github/pranit06/AI/blob/master/HW_J048_010820.ipynb\" target=\"_parent\"><img src=\"https://colab.research.google.com/assets/colab-badge.svg\" alt=\"Open In Colab\"/></a>"
      ]
    },
    {
      "cell_type": "markdown",
      "metadata": {
        "id": "LAcJ4QagUdcf",
        "colab_type": "text"
      },
      "source": [
        "SHERLOCK AND COST"
      ]
    },
    {
      "cell_type": "code",
      "metadata": {
        "id": "7bgl5HQbUfaY",
        "colab_type": "code",
        "colab": {}
      },
      "source": [
        "import math\n",
        "import os\n",
        "import random\n",
        "import re\n",
        "import sys\n",
        "\n",
        "# Complete the cost function below.\n",
        "def cost(B):\n",
        "  le = len(B)\n",
        "  hi,low=0,0\n",
        "  for i in range(1,le): \n",
        "    hilow=abs(B[i-1] - 1)\n",
        "    hihi=abs(B[i] - B[i-1])\n",
        "    lowhi=abs(B[i] - 1)\n",
        "    low_next=max(low, hi+hilow)\n",
        "    hi_next=max(hi+hihi, low+lowhi)\n",
        "    low=low_next\n",
        "    hi=hi_next\n",
        "  return max (hi,low)\n",
        "B=[4,5,6,7,3,6]\n",
        "cost(B)"
      ],
      "execution_count": null,
      "outputs": []
    },
    {
      "cell_type": "markdown",
      "metadata": {
        "id": "pYb905faaWc8",
        "colab_type": "text"
      },
      "source": [
        "THE COIN CHANGE PROBLEM"
      ]
    },
    {
      "cell_type": "code",
      "metadata": {
        "id": "AIYsa0JMaXVU",
        "colab_type": "code",
        "colab": {}
      },
      "source": [
        "import math\n",
        "import os\n",
        "import random\n",
        "import re\n",
        "import sys\n",
        "\n",
        "#\n",
        "# Complete the 'getWays' function below.\n",
        "#\n",
        "# The function is expected to return a LONG_INTEGER.\n",
        "# The function accepts following parameters:\n",
        "#  1. INTEGER n\n",
        "#  2. LONG_INTEGER_ARRAY c\n",
        "#\n",
        "\n",
        "def getWays(n, c):\n",
        "    ways = [0] * (n + 1); \n",
        "    ways[0] = 1; \n",
        "    for i in range(len(c)): \n",
        "  \n",
        "        \n",
        "        for j in range(len(ways)): \n",
        "            if (c[i] <= j): \n",
        "  \n",
        "                \n",
        "                ways[j] += ways[(int)(j - c[i])]; \n",
        "  \n",
        "    \n",
        "    return ways[n];"
      ],
      "execution_count": null,
      "outputs": []
    },
    {
      "cell_type": "markdown",
      "metadata": {
        "id": "UXF8zuacaX5e",
        "colab_type": "text"
      },
      "source": [
        "VALIDATING POSTAL CODES"
      ]
    },
    {
      "cell_type": "code",
      "metadata": {
        "id": "8aR3zfDfaYMM",
        "colab_type": "code",
        "colab": {}
      },
      "source": [
        "import sys\n",
        "stdin=sys.stdin\n",
        "\n",
        "import re\n",
        "post=stdin.readline().strip()\n",
        "print(re.match(\"^[1-9][0-9]{5}$\",post) !=None and [ord(post[i])-ord(post[i+2]) for i in range(4)].count(0)<=1)"
      ],
      "execution_count": null,
      "outputs": []
    }
  ]
}