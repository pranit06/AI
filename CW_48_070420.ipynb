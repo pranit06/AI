{
  "nbformat": 4,
  "nbformat_minor": 0,
  "metadata": {
    "colab": {
      "name": "CW_48_070420.ipynb",
      "provenance": [],
      "authorship_tag": "ABX9TyNNu2+CjEBhN4YAUbdXEfzc",
      "include_colab_link": true
    },
    "kernelspec": {
      "name": "python3",
      "display_name": "Python 3"
    }
  },
  "cells": [
    {
      "cell_type": "markdown",
      "metadata": {
        "id": "view-in-github",
        "colab_type": "text"
      },
      "source": [
        "<a href=\"https://colab.research.google.com/github/pranit06/AI/blob/master/CW_48_070420.ipynb\" target=\"_parent\"><img src=\"https://colab.research.google.com/assets/colab-badge.svg\" alt=\"Open In Colab\"/></a>"
      ]
    },
    {
      "cell_type": "code",
      "metadata": {
        "id": "351AA8dbslpi",
        "colab_type": "code",
        "colab": {}
      },
      "source": [
        "#list\n",
        "a=[1,2,3,4,5,'human']\n",
        "b=[[1,2,3,4,5,'human'],[1,2,3,4,'human']]\n",
        "\n",
        "#tuple\n",
        "a=(1,2,3,4,5,'human')\n",
        "\n",
        "#dictionary\n",
        "a={'list':[1,2,3,4,5,'human'], \n",
        "   'tuple':(1,2,3,4,5,'human'),\n",
        "   'set':{1,2,3,4,5,'human'}}\n",
        "\n"
      ],
      "execution_count": null,
      "outputs": []
    },
    {
      "cell_type": "code",
      "metadata": {
        "id": "Vh5xPnw7s3IV",
        "colab_type": "code",
        "colab": {}
      },
      "source": [
        ""
      ],
      "execution_count": null,
      "outputs": []
    }
  ]
}