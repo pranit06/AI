{
  "nbformat": 4,
  "nbformat_minor": 0,
  "metadata": {
    "colab": {
      "name": "CW_J048_010820.ipynb",
      "provenance": [],
      "authorship_tag": "ABX9TyMSscqQWdXBeYocjJXcovsm",
      "include_colab_link": true
    },
    "kernelspec": {
      "name": "python3",
      "display_name": "Python 3"
    }
  },
  "cells": [
    {
      "cell_type": "markdown",
      "metadata": {
        "id": "view-in-github",
        "colab_type": "text"
      },
      "source": [
        "<a href=\"https://colab.research.google.com/github/pranit06/AI/blob/master/CW_J048_010820.ipynb\" target=\"_parent\"><img src=\"https://colab.research.google.com/assets/colab-badge.svg\" alt=\"Open In Colab\"/></a>"
      ]
    },
    {
      "cell_type": "code",
      "metadata": {
        "id": "5lch1smYcTXd",
        "colab_type": "code",
        "colab": {
          "base_uri": "https://localhost:8080/",
          "height": 35
        },
        "outputId": "659a4126-db60-46c9-8246-9a445cb63b15"
      },
      "source": [
        "a=1+2+3+4\n",
        "a"
      ],
      "execution_count": 1,
      "outputs": [
        {
          "output_type": "execute_result",
          "data": {
            "text/plain": [
              "10"
            ]
          },
          "metadata": {
            "tags": []
          },
          "execution_count": 1
        }
      ]
    },
    {
      "cell_type": "markdown",
      "metadata": {
        "id": "lwpV5N7XcUPQ",
        "colab_type": "text"
      },
      "source": [
        "Recurion - Function calls itself during execution\n",
        "1+2+3+4\n",
        "\n",
        "1+2=3 sum(1,2)\n",
        "\n",
        "3+3=6 sum(sum(1,2),3)\n",
        "\n",
        "6+4=10 sum(sum(sum(1,2),3),4)"
      ]
    },
    {
      "cell_type": "markdown",
      "metadata": {
        "id": "P_n2FgJXce_L",
        "colab_type": "text"
      },
      "source": [
        "Memoisation - Memorandum(Latin)\n",
        "Storing intermidate values thrugh various ways\n",
        "\n",
        "Calculate 7!\n",
        "\n"
      ]
    },
    {
      "cell_type": "code",
      "metadata": {
        "id": "0Xc2s7Xqclp2",
        "colab_type": "code",
        "colab": {
          "base_uri": "https://localhost:8080/",
          "height": 35
        },
        "outputId": "e40d93c6-0f04-482b-c1cf-464b9411f009"
      },
      "source": [
        "7*6*5*4*3*2"
      ],
      "execution_count": 2,
      "outputs": [
        {
          "output_type": "execute_result",
          "data": {
            "text/plain": [
              "5040"
            ]
          },
          "metadata": {
            "tags": []
          },
          "execution_count": 2
        }
      ]
    },
    {
      "cell_type": "code",
      "metadata": {
        "id": "gdkQJZ9Rcpek",
        "colab_type": "code",
        "colab": {}
      },
      "source": [
        "def factorial(n):\n",
        "  if n>0:\n",
        "    if n == 1:\n",
        "       return n\n",
        "    else:\n",
        "      return (n*factorial(n-1))\n",
        "  else:\n",
        "    return(\"Invalid_Input\")"
      ],
      "execution_count": 4,
      "outputs": []
    },
    {
      "cell_type": "code",
      "metadata": {
        "id": "LWx9q5cjcwsU",
        "colab_type": "code",
        "colab": {
          "base_uri": "https://localhost:8080/",
          "height": 35
        },
        "outputId": "6b0360d2-ab35-471f-975f-2597a05d2bb8"
      },
      "source": [
        "factorial(5)"
      ],
      "execution_count": 5,
      "outputs": [
        {
          "output_type": "execute_result",
          "data": {
            "text/plain": [
              "120"
            ]
          },
          "metadata": {
            "tags": []
          },
          "execution_count": 5
        }
      ]
    },
    {
      "cell_type": "code",
      "metadata": {
        "id": "sX9NmsovcwyH",
        "colab_type": "code",
        "colab": {
          "base_uri": "https://localhost:8080/",
          "height": 35
        },
        "outputId": "726305ea-751f-4b43-a8bc-76e791ecaa5a"
      },
      "source": [
        "factorial(-2)"
      ],
      "execution_count": 6,
      "outputs": [
        {
          "output_type": "execute_result",
          "data": {
            "application/vnd.google.colaboratory.intrinsic+json": {
              "type": "string"
            },
            "text/plain": [
              "'Invalid_Input'"
            ]
          },
          "metadata": {
            "tags": []
          },
          "execution_count": 6
        }
      ]
    },
    {
      "cell_type": "markdown",
      "metadata": {
        "id": "awJlPTQkc7a1",
        "colab_type": "text"
      },
      "source": [
        "Fibonacci - The next number is the addition of previous 2 numbers starting with 0 and 1\n",
        "0, 1, 1, 2, 3, 5, 8, 13, 21, ....\n",
        "\n",
        "base case - sum(0,1)\n",
        "\n",
        "nth number is sum of previous two numbers num(n) - sum(num(n-1),num(n-2))"
      ]
    },
    {
      "cell_type": "code",
      "metadata": {
        "id": "TjiuS9Bpc8pv",
        "colab_type": "code",
        "colab": {}
      },
      "source": [
        "def fibonacci(n): \n",
        "    ar = [0,1] \n",
        "    if n>0: \n",
        "      if n<=len(ar): \n",
        "        return ar[n-1] \n",
        "      else: \n",
        "        fibo = fibonacci(n-1)+fibonacci(n-2) \n",
        "        ar.append(fibo) \n",
        "        return fibo \n",
        "    else:\n",
        "        print(\"Invalid_Input\") "
      ],
      "execution_count": 7,
      "outputs": []
    },
    {
      "cell_type": "code",
      "metadata": {
        "id": "C07wJolCdCTY",
        "colab_type": "code",
        "colab": {
          "base_uri": "https://localhost:8080/",
          "height": 35
        },
        "outputId": "0ef908d3-e37e-4310-b2f4-178e21a413ab"
      },
      "source": [
        "fibonacci(8)"
      ],
      "execution_count": 10,
      "outputs": [
        {
          "output_type": "execute_result",
          "data": {
            "text/plain": [
              "13"
            ]
          },
          "metadata": {
            "tags": []
          },
          "execution_count": 10
        }
      ]
    },
    {
      "cell_type": "code",
      "metadata": {
        "id": "rbzfIu8HdCXY",
        "colab_type": "code",
        "colab": {
          "base_uri": "https://localhost:8080/",
          "height": 35
        },
        "outputId": "38823608-516a-4e9e-ace6-b6cab8571d20"
      },
      "source": [
        "fibonacci(-1)"
      ],
      "execution_count": 11,
      "outputs": [
        {
          "output_type": "stream",
          "text": [
            "Invalid_Input\n"
          ],
          "name": "stdout"
        }
      ]
    },
    {
      "cell_type": "code",
      "metadata": {
        "id": "uGbIZi1IdURI",
        "colab_type": "code",
        "colab": {}
      },
      "source": [
        "def fib(n):\n",
        "  if n==0 or n==1:\n",
        "    return n\n",
        "  else:\n",
        "    return fib(n-1)+fib(n-2)"
      ],
      "execution_count": 12,
      "outputs": []
    },
    {
      "cell_type": "code",
      "metadata": {
        "id": "0jRrZBd7dWYt",
        "colab_type": "code",
        "colab": {
          "base_uri": "https://localhost:8080/",
          "height": 35
        },
        "outputId": "59979834-56b1-40d9-d2fd-3daccba190ab"
      },
      "source": [
        "fib(7)"
      ],
      "execution_count": 16,
      "outputs": [
        {
          "output_type": "execute_result",
          "data": {
            "text/plain": [
              "13"
            ]
          },
          "metadata": {
            "tags": []
          },
          "execution_count": 16
        }
      ]
    },
    {
      "cell_type": "markdown",
      "metadata": {
        "id": "XPkO_PCVdod1",
        "colab_type": "text"
      },
      "source": [
        "Tractable - PTIME (Polynomial Time Solvable)Solution is in Polynomial Time\n",
        "Polynomial - expression where each term is n^k where k can be any whole number Degree of the polynomial highest power of the variable within the expression\n",
        "\n",
        "Polynomial Time - Runtime of the code or solution should be a polynomial of degree k where k is a constant, and since it is time n cannot be negative n: input space or dimension eg O(n^4) - 3n^4+2n^2+1 n=1 => 1 n=2 => 2^4 n=3 => 3^4 n=4 => 4^4 ...\n",
        "\n",
        "O(n!) nn-1n-2*...1 -> Polynomial of Degree n-1 - Non Polynomial Time (NP)"
      ]
    }
  ]
}